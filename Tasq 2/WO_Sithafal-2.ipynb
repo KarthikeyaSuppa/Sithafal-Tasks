{
  "cells": [
    {
      "cell_type": "code",
      "source": [
        "!pip install faiss-cpu\n",
        "!pip install faiss-gpu"
      ],
      "metadata": {
        "colab": {
          "base_uri": "https://localhost:8080/"
        },
        "id": "v2LYm1-y-ODP",
        "outputId": "7a106f44-e3cb-44ee-b5c1-70a67fa49d3d"
      },
      "execution_count": 26,
      "outputs": [
        {
          "output_type": "stream",
          "name": "stdout",
          "text": [
            "Requirement already satisfied: faiss-cpu in /usr/local/lib/python3.10/dist-packages (1.9.0.post1)\n",
            "Requirement already satisfied: numpy<3.0,>=1.25.0 in /usr/local/lib/python3.10/dist-packages (from faiss-cpu) (1.26.4)\n",
            "Requirement already satisfied: packaging in /usr/local/lib/python3.10/dist-packages (from faiss-cpu) (24.2)\n",
            "Requirement already satisfied: faiss-gpu in /usr/local/lib/python3.10/dist-packages (1.7.2)\n"
          ]
        }
      ]
    },
    {
      "cell_type": "code",
      "source": [
        "import requests\n",
        "from bs4 import BeautifulSoup\n",
        "from sentence_transformers import SentenceTransformer\n",
        "import faiss\n",
        "import numpy as np"
      ],
      "metadata": {
        "id": "AbVcSOqE85oW"
      },
      "execution_count": 10,
      "outputs": []
    },
    {
      "cell_type": "code",
      "source": [
        "# Initialize the embedding model\n",
        "embedding_model = SentenceTransformer('all-MiniLM-L6-v2')  # Lightweight embedding model\n",
        "\n",
        "# Function to crawl and scrape website content\n",
        "def scrape_website(url):\n",
        "    response = requests.get(url)\n",
        "    soup = BeautifulSoup(response.content, 'html.parser')\n",
        "\n",
        "    # Extract text from paragraphs\n",
        "    paragraphs = soup.find_all('p')\n",
        "    content = \"\\n\".join([p.get_text(strip=True) for p in paragraphs])\n",
        "    return content\n",
        "\n",
        "# Function to chunk content into smaller pieces\n",
        "def chunk_content(content, max_tokens=300):\n",
        "    tokens = content.split()\n",
        "    chunks = [' '.join(tokens[i:i+max_tokens]) for i in range(0, len(tokens), max_tokens)]\n",
        "    return chunks\n",
        "\n",
        "# Process websites and store embeddings in FAISS\n",
        "def ingest_websites(urls):\n",
        "    all_chunks = []\n",
        "    all_embeddings = []\n",
        "    for url in urls:\n",
        "        print(f\"Scraping: {url}\")\n",
        "        content = scrape_website(url)\n",
        "        chunks = chunk_content(content)\n",
        "        all_chunks.extend(chunks)\n",
        "        embeddings = embedding_model.encode(chunks)\n",
        "        all_embeddings.extend(embeddings)\n",
        "\n",
        "    # Convert to FAISS-compatible format\n",
        "    dimension = len(all_embeddings[0])\n",
        "    index = faiss.IndexFlatL2(dimension)\n",
        "    index.add(np.array(all_embeddings))\n",
        "    return index, all_chunks\n",
        "\n",
        "# List of websites to crawl\n",
        "urls = [\"https://www.washington.edu/ \", \"https://www.stanford.edu/\",\"https://und.edu/ \"]\n",
        "index, chunks = ingest_websites(urls)"
      ],
      "metadata": {
        "colab": {
          "base_uri": "https://localhost:8080/"
        },
        "id": "-jRy99rp7nyy",
        "outputId": "c19dc88d-5b6d-436b-8368-bdad60ca6d9c"
      },
      "execution_count": 11,
      "outputs": [
        {
          "output_type": "stream",
          "name": "stdout",
          "text": [
            "Scraping: https://www.washington.edu/ \n",
            "Scraping: https://www.stanford.edu/\n",
            "Scraping: https://und.edu/ \n"
          ]
        }
      ]
    },
    {
      "cell_type": "code",
      "source": [
        "def retrieve_relevant_chunks(query, index, chunks, k=3):\n",
        "    query_embedding = embedding_model.encode([query])\n",
        "    distances, indices = index.search(query_embedding, k)\n",
        "\n",
        "    retrieved_chunks = [chunks[idx] for idx in indices[0]]\n",
        "    return retrieved_chunks"
      ],
      "metadata": {
        "id": "mtMuGtRb8ut7"
      },
      "execution_count": 12,
      "outputs": []
    },
    {
      "cell_type": "code",
      "source": [
        "query = input(\"Enter your query: \")\n",
        "\n",
        "# Retrieve relevant chunks\n",
        "relevant_chunks = retrieve_relevant_chunks(query, index, chunks, k=3)\n",
        "combined_summary = \" \".join(relevant_chunks)\n",
        "\n",
        "# Initialize DistilGPT-2 for text generation\n",
        "generator = pipeline(\"text-generation\",model=\"distilgpt2\",tokenizer=\"distilgpt2\",truncation=True,pad_token_id=50256)\n",
        "\n",
        "\n",
        "# Prepare the prompt for the model\n",
        "prompt = f\"Analyze the query and retrieve the most relevant information:\\nQuery: {query}\\nRelevant Information: {combined_summary}\\nProvide a concise and accurate response:\"\n",
        "\n",
        "# Generate the final response\n",
        "# Generate the final response\n",
        "response = generator(prompt, max_new_tokens=150, num_return_sequences=1)\n",
        "\n",
        "\n",
        "# Display the final response\n",
        "print(\"\\nFinal Combined Response:\")\n",
        "print(response[0]['generated_text'])"
      ],
      "metadata": {
        "colab": {
          "base_uri": "https://localhost:8080/"
        },
        "id": "5T_wQAwmmOZF",
        "outputId": "5f18e606-9861-462a-eca7-35c17f1f19eb"
      },
      "execution_count": 24,
      "outputs": [
        {
          "output_type": "stream",
          "name": "stdout",
          "text": [
            "Enter your query: Tell about the University of Chicago \n",
            "\n",
            "Final Combined Response:\n",
            "Analyze the query and retrieve the most relevant information:\n",
            "Query: Tell about the University of Chicago \n",
            "Relevant Information: of creative and accomplished people from around the world A residential campus with diverse housing, exceptional dining, and over 600 student organizations Student Affairs A rich tradition of fostering creativity and a vibrant arts district on campus Stanford Arts State-of-the-art facilities and fitness programs to encourage movement and play Recreation & Wellness Providing student-athletes the opportunity to achieve excellence both in competition and in the classroom Stanford’s 136 NCAA championships are the most for any university, a product of an unrivaled culture of excellence and continued support from the campus community National Championships The Cardinal has produced at least one medalist in every Olympics in which the U.S. has competed since 1912, totaling 335 medals from 196 medalists Medals Stanford student-athletes have achieved local, national, and global impact through community involvement and advocacy Athlete Stories Offering extraordinary freedom to explore, to collaborate, and to challenge yourself We look for distinctive students who exhibit an abundance of energy and curiosity in their classes, activities, projects, research, and lives. More than two-thirds of undergrads receive some form of financial assistance. Generally, tuition is covered for families with incomes below $150,000. ©CopyrightStanford University.Stanford,California94305. Other ways to search:MapProfiles Stanford Explore Stanford Stanford was founded almost 150 years ago on a bedrock of societal purpose. Our mission is to contribute to the world by educating students for lives of leadership and contribution with integrity; advancing fundamental knowledge and cultivating creativity; leading in pioneering research for effective clinical therapies; and accelerating solutions and amplifying their impact. Stories about people, research, and innovation across the Farm Science & Engineering Earth & Climate Science & Engineering Social Sciences Science & Engineering Arts & Humanities Preparing students to make meaningful contributions to society as engaged citizens and leaders in a complex world Rich learning experiences that provide a broad liberal arts foundation and deep subject-area expertise Undergraduate Education Unsurpassed opportunities to participate in the advancement of entire fields of knowledge Graduate education Continuing adult education, executive and professional programs, and programs for K-12 students Lifelong Learning “When I ‘decided’ to become a mathematician, it was not a decision. I could not do otherwise. You don’t decide to fall in love with somebody. It just happens.” Professor (Teaching) of Mathematics Driving discoveries vital to our world, our health, and our intellectual life Advancing human health through innovative research, education, and care Leading a worldwide revolution in precision health through biomedical research, education, and clinical enterprises Stanford Medicine Leveraging expertise and advanced technology to deliver unparalleled care for each patient’s unique needs Stanford Health Care The only health care network in the Bay Area – and one of the few in the country – exclusively dedicated to pediatric and obstetric care Stanford Children’s Health “I think about all the projects that students throw themselves at quarter after quarter, just really expanding and stretching their minds. … Stanford allows you to experience evolutions of yourself.” Class of 2024 Building a vibrant community You could try the parent folder of this file:https://und.edu/ We're sorry - the page you are looking for cannot be found. Give Search a Try Possible Causes:The page was deleted, moved, or there is a typo in the web address. If you can't find what you're looking for or have a general comment,please let us know. By clicking any link on this page you are giving your consent for us to set cookies,Privacy Information. ©2024 University of North Dakota - Grand Forks, ND - Member of ND University System\n",
            "Provide a concise and accurate response:Thank you for your support!\n",
            "\n",
            "Professor, Academic, Educational Social Sciences:\n",
            "This course will be taught in every facet of our University of North Dakota system and requires no further introduction or introduction. Our mission is to help our students and our community by making it easier for parents and students to explore each other in meaningful conversations and learning experiences within our communities and across the country.\n"
          ]
        }
      ]
    },
    {
      "cell_type": "code",
      "source": [
        "import torch"
      ],
      "metadata": {
        "id": "iMdsaU_IaUsz"
      },
      "execution_count": 25,
      "outputs": []
    },
    {
      "cell_type": "code",
      "source": [
        "from transformers import pipeline"
      ],
      "metadata": {
        "id": "ZrjaUB9L82r4"
      },
      "execution_count": 14,
      "outputs": []
    },
    {
      "cell_type": "code",
      "source": [
        "# Check if GPU is available\n",
        "device = 0 if torch.cuda.is_available() else -1\n",
        "\n",
        "# Initialize LLM\n",
        "llm = pipeline(\"text-generation\", model=\"facebook/opt-1.3b\", device=device)\n",
        "\n",
        "# Rest of your code remains unchanged\n",
        "# Generate response based on retrieved chunks\n",
        "def generate_response(query, retrieved_chunks):\n",
        "    context = \"\\n\".join(retrieved_chunks)\n",
        "    prompt = (\n",
        "        f\"You are an intelligent assistant. Use the following context to answer the question.\\n\\n\"\n",
        "        f\"Context:\\n{context}\\n\\n\"\n",
        "        f\"Question: {query}\\n\\n\"\n",
        "        f\"Answer:\"\n",
        "    )\n",
        "    response = llm(prompt, max_length=512, num_return_sequences=1)\n",
        "    return response[0][\"generated_text\"]\n",
        "\n",
        "# Example usage\n",
        "query = input(\"Enter your query: \")\n",
        "retrieved_chunks = retrieve_relevant_chunks(query, index, chunks)\n",
        "response = generate_response(query, retrieved_chunks)"
      ],
      "metadata": {
        "colab": {
          "base_uri": "https://localhost:8080/"
        },
        "id": "HeZWK9788wbz",
        "outputId": "a38832aa-4efb-42e3-82de-278291ae9dbc"
      },
      "execution_count": 15,
      "outputs": [
        {
          "name": "stdout",
          "output_type": "stream",
          "text": [
            "Enter your query: Tell me about the university of chicago news\n"
          ]
        },
        {
          "output_type": "stream",
          "name": "stderr",
          "text": [
            "Truncation was not explicitly activated but `max_length` is provided a specific value, please use `truncation=True` to explicitly truncate examples to max length. Defaulting to 'longest_first' truncation strategy. If you encode pairs of sequences (GLUE-style) with the tokenizer you can select this strategy more precisely by providing a specific strategy to `truncation`.\n"
          ]
        }
      ]
    },
    {
      "cell_type": "code",
      "source": [
        "print(\"\\nGenerated Response:\\n\")"
      ],
      "metadata": {
        "colab": {
          "base_uri": "https://localhost:8080/"
        },
        "id": "6E4zQ8hu_EcX",
        "outputId": "c3d08774-cd10-4787-ab2c-c62cb802f8fa"
      },
      "execution_count": 16,
      "outputs": [
        {
          "output_type": "stream",
          "name": "stdout",
          "text": [
            "\n",
            "Generated Response:\n",
            "\n"
          ]
        }
      ]
    },
    {
      "cell_type": "code",
      "source": [
        "print(response)"
      ],
      "metadata": {
        "colab": {
          "base_uri": "https://localhost:8080/"
        },
        "id": "A57nYPPVbPHZ",
        "outputId": "b668c2b2-608d-43e4-86fb-ce0ca1f0b572"
      },
      "execution_count": 17,
      "outputs": [
        {
          "output_type": "stream",
          "name": "stdout",
          "text": [
            "You are an intelligent assistant. Use the following context to answer the question.\n",
            "\n",
            "Context:\n",
            "Dubs tells us this page might not be what you had in mind when you set out on your journey through the UW Web. Don’t worry, you’re not in the Dawg House! Here are some of Dubs’ favorite pages if you feel like exploring: © 2019 University of Washington | Seattle, WA\n",
            "of creative and accomplished people from around the world A residential campus with diverse housing, exceptional dining, and over 600 student organizations Student Affairs A rich tradition of fostering creativity and a vibrant arts district on campus Stanford Arts State-of-the-art facilities and fitness programs to encourage movement and play Recreation & Wellness Providing student-athletes the opportunity to achieve excellence both in competition and in the classroom Stanford’s 136 NCAA championships are the most for any university, a product of an unrivaled culture of excellence and continued support from the campus community National Championships The Cardinal has produced at least one medalist in every Olympics in which the U.S. has competed since 1912, totaling 335 medals from 196 medalists Medals Stanford student-athletes have achieved local, national, and global impact through community involvement and advocacy Athlete Stories Offering extraordinary freedom to explore, to collaborate, and to challenge yourself We look for distinctive students who exhibit an abundance of energy and curiosity in their classes, activities, projects, research, and lives. More than two-thirds of undergrads receive some form of financial assistance. Generally, tuition is covered for families with incomes below $150,000. ©CopyrightStanford University.Stanford,California94305.\n",
            "Other ways to search:MapProfiles Stanford Explore Stanford Stanford was founded almost 150 years ago on a bedrock of societal purpose. Our mission is to contribute to the world by educating students for lives of leadership and contribution with integrity; advancing fundamental knowledge and cultivating creativity; leading in pioneering research for effective clinical therapies; and accelerating solutions and amplifying their impact. Stories about people, research, and innovation across the Farm Science & Engineering Earth & Climate Science & Engineering Social Sciences Science & Engineering Arts & Humanities Preparing students to make meaningful contributions to society as engaged citizens and leaders in a complex world Rich learning experiences that provide a broad liberal arts foundation and deep subject-area expertise Undergraduate Education Unsurpassed opportunities to participate in the advancement of entire fields of knowledge Graduate education Continuing adult education, executive and professional programs, and programs for K-12 students Lifelong Learning “When I ‘decided’ to become a mathematician, it was not a decision. I could not do otherwise. You don’t decide to fall in love with somebody. It just happens.” Professor (Teaching) of Mathematics Driving discoveries vital to our world, our health, and our intellectual life Advancing human health through innovative research, education, and care Leading a worldwide revolution in precision health through biomedical research, education, and clinical enterprises Stanford Medicine Leveraging expertise and advanced technology to deliver unparalleled care for each patient’s unique needs Stanford Health Care The only health care network in the Bay Area – and one of the few in the country – exclusively dedicated to pediatric and obstetric care Stanford Children’s Health “I think about all the projects that students throw themselves at quarter after quarter, just really expanding and stretching their minds. … Stanford allows you to experience evolutions of yourself.” Class of 2024 Building a vibrant community\n",
            "\n",
            "Question: Tell me about the university of chicago news\n",
            "\n",
            "Answer:elong\n"
          ]
        }
      ]
    },
    {
      "cell_type": "code",
      "source": [],
      "metadata": {
        "id": "H2kIlKN1kud3"
      },
      "execution_count": null,
      "outputs": []
    }
  ],
  "metadata": {
    "accelerator": "TPU",
    "colab": {
      "gpuType": "V28",
      "provenance": []
    },
    "kernelspec": {
      "display_name": "Python 3",
      "name": "python3"
    },
    "language_info": {
      "name": "python"
    }
  },
  "nbformat": 4,
  "nbformat_minor": 0
}